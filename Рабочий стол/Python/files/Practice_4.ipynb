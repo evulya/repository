{
 "cells": [
  {
   "cell_type": "markdown",
   "metadata": {},
   "source": [
    "# Задача 0\n",
    "\n",
    "Имеется калькулятор, который выполняет три операции:\n",
    "\n",
    "1. Прибавить к числу X единицу.\n",
    "2. Умножить число X на 2.\n",
    "3. Умножить число X на 3.\n",
    "\n",
    "Определите, какое наименьшее число операций необходимо для того, чтобы получить из числа 1 заданное число N.\n",
    "\n",
    "**Примеры**\n",
    "\n",
    "входные данные | выходные данные\n",
    "---|---\n",
    "1 | 0\n",
    "5 | 3\n",
    "32718 | 17"
   ]
  },
  {
   "cell_type": "code",
   "execution_count": 6,
   "metadata": {},
   "outputs": [
    {
     "ename": "KeyError",
     "evalue": "0",
     "output_type": "error",
     "traceback": [
      "\u001b[0;31m---------------------------------------------------------------------------\u001b[0m",
      "\u001b[0;31mKeyError\u001b[0m                                  Traceback (most recent call last)",
      "\u001b[1;32m/home/eva/Рабочий стол/Python/files/Practice_4.ipynb Cell 2\u001b[0m line \u001b[0;36m9\n\u001b[1;32m      <a href='vscode-notebook-cell:/home/eva/%D0%A0%D0%B0%D0%B1%D0%BE%D1%87%D0%B8%D0%B9%20%D1%81%D1%82%D0%BE%D0%BB/Python/files/Practice_4.ipynb#W1sZmlsZQ%3D%3D?line=6'>7</a>\u001b[0m         d[i] \u001b[39m=\u001b[39m \u001b[39mmin\u001b[39m(a)\u001b[39m+\u001b[39m\u001b[39m1\u001b[39m\n\u001b[1;32m      <a href='vscode-notebook-cell:/home/eva/%D0%A0%D0%B0%D0%B1%D0%BE%D1%87%D0%B8%D0%B9%20%D1%81%D1%82%D0%BE%D0%BB/Python/files/Practice_4.ipynb#W1sZmlsZQ%3D%3D?line=7'>8</a>\u001b[0m     \u001b[39mreturn\u001b[39;00m d[n]\n\u001b[0;32m----> <a href='vscode-notebook-cell:/home/eva/%D0%A0%D0%B0%D0%B1%D0%BE%D1%87%D0%B8%D0%B9%20%D1%81%D1%82%D0%BE%D0%BB/Python/files/Practice_4.ipynb#W1sZmlsZQ%3D%3D?line=8'>9</a>\u001b[0m t0(\u001b[39m1\u001b[39m), t0(\u001b[39m5\u001b[39;49m), t0(\u001b[39m32727\u001b[39m)\n",
      "\u001b[1;32m/home/eva/Рабочий стол/Python/files/Practice_4.ipynb Cell 2\u001b[0m line \u001b[0;36m6\n\u001b[1;32m      <a href='vscode-notebook-cell:/home/eva/%D0%A0%D0%B0%D0%B1%D0%BE%D1%87%D0%B8%D0%B9%20%D1%81%D1%82%D0%BE%D0%BB/Python/files/Practice_4.ipynb#W1sZmlsZQ%3D%3D?line=3'>4</a>\u001b[0m     a\u001b[39m=\u001b[39m [d[i\u001b[39m-\u001b[39m\u001b[39m1\u001b[39m]]\n\u001b[1;32m      <a href='vscode-notebook-cell:/home/eva/%D0%A0%D0%B0%D0%B1%D0%BE%D1%87%D0%B8%D0%B9%20%D1%81%D1%82%D0%BE%D0%BB/Python/files/Practice_4.ipynb#W1sZmlsZQ%3D%3D?line=4'>5</a>\u001b[0m     \u001b[39mif\u001b[39;00m i\u001b[39m%\u001b[39m\u001b[39m2\u001b[39m\u001b[39m==\u001b[39m\u001b[39m0\u001b[39m:\n\u001b[0;32m----> <a href='vscode-notebook-cell:/home/eva/%D0%A0%D0%B0%D0%B1%D0%BE%D1%87%D0%B8%D0%B9%20%D1%81%D1%82%D0%BE%D0%BB/Python/files/Practice_4.ipynb#W1sZmlsZQ%3D%3D?line=5'>6</a>\u001b[0m         a\u001b[39m+\u001b[39m\u001b[39m=\u001b[39m[d[i\u001b[39m/\u001b[39;49m\u001b[39m/\u001b[39;49m\u001b[39m3\u001b[39;49m]]\n\u001b[1;32m      <a href='vscode-notebook-cell:/home/eva/%D0%A0%D0%B0%D0%B1%D0%BE%D1%87%D0%B8%D0%B9%20%D1%81%D1%82%D0%BE%D0%BB/Python/files/Practice_4.ipynb#W1sZmlsZQ%3D%3D?line=6'>7</a>\u001b[0m     d[i] \u001b[39m=\u001b[39m \u001b[39mmin\u001b[39m(a)\u001b[39m+\u001b[39m\u001b[39m1\u001b[39m\n\u001b[1;32m      <a href='vscode-notebook-cell:/home/eva/%D0%A0%D0%B0%D0%B1%D0%BE%D1%87%D0%B8%D0%B9%20%D1%81%D1%82%D0%BE%D0%BB/Python/files/Practice_4.ipynb#W1sZmlsZQ%3D%3D?line=7'>8</a>\u001b[0m \u001b[39mreturn\u001b[39;00m d[n]\n",
      "\u001b[0;31mKeyError\u001b[0m: 0"
     ]
    }
   ],
   "source": [
    "def t0(n):\n",
    "    d = {1:0}\n",
    "    for i in range(2, n+1):\n",
    "        a= [d[i-1]]\n",
    "        if i%2==0:\n",
    "            a+=[d[i//3]]\n",
    "        d[i] = min(a)+1\n",
    "    return d[n]\n",
    "t0(1), t0(5), t0(32727)\n"
   ]
  },
  {
   "cell_type": "code",
   "execution_count": null,
   "metadata": {},
   "outputs": [
    {
     "ename": "KeyError",
     "evalue": "1000",
     "output_type": "error",
     "traceback": [
      "\u001b[0;31m---------------------------------------------------------------------------\u001b[0m",
      "\u001b[0;31mKeyError\u001b[0m                                  Traceback (most recent call last)",
      "File \u001b[0;32m<timed exec>:1\u001b[0m\n",
      "\u001b[1;32m/home/eva/Загрузки/Practice_4.ipynb Cell 2\u001b[0m line \u001b[0;36m5\n\u001b[1;32m      <a href='vscode-notebook-cell:/home/eva/%D0%97%D0%B0%D0%B3%D1%80%D1%83%D0%B7%D0%BA%D0%B8/Practice_4.ipynb#X25sZmlsZQ%3D%3D?line=2'>3</a>\u001b[0m \u001b[39mfor\u001b[39;00m i \u001b[39min\u001b[39;00m \u001b[39mrange\u001b[39m(\u001b[39m2\u001b[39m, n\u001b[39m+\u001b[39m\u001b[39m1\u001b[39m):\n\u001b[1;32m      <a href='vscode-notebook-cell:/home/eva/%D0%97%D0%B0%D0%B3%D1%80%D1%83%D0%B7%D0%BA%D0%B8/Practice_4.ipynb#X25sZmlsZQ%3D%3D?line=3'>4</a>\u001b[0m     d[i] \u001b[39m=\u001b[39m d[i\u001b[39m-\u001b[39m\u001b[39m1\u001b[39m] \u001b[39m+\u001b[39m d[i\u001b[39m-\u001b[39m\u001b[39m2\u001b[39m]\n\u001b[0;32m----> <a href='vscode-notebook-cell:/home/eva/%D0%97%D0%B0%D0%B3%D1%80%D1%83%D0%B7%D0%BA%D0%B8/Practice_4.ipynb#X25sZmlsZQ%3D%3D?line=4'>5</a>\u001b[0m     \u001b[39mreturn\u001b[39;00m d[n]\n",
      "\u001b[0;31mKeyError\u001b[0m: 1000"
     ]
    }
   ],
   "source": [
    "def fib3(n):\n",
    "    d= {0:0, 1:1}\n",
    "    for i in range(2, n+1):\n",
    "        d[i] = d[i-1] + d[i-2]\n",
    "        return d[n]\n",
    "%time a = fib3(1000)"
   ]
  },
  {
   "cell_type": "code",
   "execution_count": null,
   "metadata": {},
   "outputs": [
    {
     "name": "stdout",
     "output_type": "stream",
     "text": [
      "CPU times: user 316 µs, sys: 0 ns, total: 316 µs\n",
      "Wall time: 319 µs\n"
     ]
    },
    {
     "data": {
      "text/plain": [
       "43466557686937456435688527675040625802564660517371780402481729089536555417949051890403879840079255169295922593080322634775209689623239873322471161642996440906533187938298969649928516003704476137795166849228875"
      ]
     },
     "execution_count": 11,
     "metadata": {},
     "output_type": "execute_result"
    }
   ],
   "source": [
    "d= {0:0, 1:1}\n",
    "def fib2(n):\n",
    "    if n in d.keys():\n",
    "        return d[n]\n",
    "    else:\n",
    "        f= fib2(n-1)+fib2(n-2)\n",
    "        d[n] = f\n",
    "        return f\n",
    "%time fib2(1000)"
   ]
  },
  {
   "cell_type": "code",
   "execution_count": null,
   "metadata": {},
   "outputs": [
    {
     "data": {
      "text/plain": [
       "12586269025"
      ]
     },
     "execution_count": 9,
     "metadata": {},
     "output_type": "execute_result"
    }
   ],
   "source": [
    "'''Your code here'''\n",
    "def fib(n):\n",
    "    if n ==0:\n",
    "        return 0\n",
    "    if n==1:\n",
    "        return 1\n",
    "    return fib(n-1) + fib(n-2)\n",
    "fib(50)"
   ]
  },
  {
   "cell_type": "markdown",
   "metadata": {},
   "source": [
    "# Задача 1\n",
    "\n",
    "Напишите функцию возврщающую n-ное число Фибоначчи."
   ]
  },
  {
   "cell_type": "code",
   "execution_count": null,
   "metadata": {},
   "outputs": [
    {
     "data": {
      "text/plain": [
       "'Your code here'"
      ]
     },
     "execution_count": 2,
     "metadata": {},
     "output_type": "execute_result"
    }
   ],
   "source": [
    "'''Your code here'''\n"
   ]
  },
  {
   "cell_type": "markdown",
   "metadata": {},
   "source": [
    "# Задача 2\n",
    "\n",
    "Алгоритм вычисления значения функции $F(n)$, где $n$ – натуральное число, задан следующими соотношениями:\n",
    "$$\n",
    "F(n)=\\begin{cases}\n",
    "    n & \\text{если }n≥2025, \\\\\n",
    "    F(n)=F(n+1)−F(n+2)+7 & \\text{если }n<2025.\n",
    "\\end{cases}\n",
    "$$\n",
    "Чему равно значение выражения $F(15)−F(24)$?"
   ]
  },
  {
   "cell_type": "code",
   "execution_count": null,
   "metadata": {},
   "outputs": [
    {
     "ename": "SyntaxError",
     "evalue": "incomplete input (3416861135.py, line 3)",
     "output_type": "error",
     "traceback": [
      "\u001b[0;36m  Cell \u001b[0;32mIn[10], line 3\u001b[0;36m\u001b[0m\n\u001b[0;31m    \u001b[0m\n\u001b[0m    ^\u001b[0m\n\u001b[0;31mSyntaxError\u001b[0m\u001b[0;31m:\u001b[0m incomplete input\n"
     ]
    }
   ],
   "source": [
    "'''Your code here'''\n",
    "def t2(n):\n",
    "    d ={2025:2025, 2026: 2026}\n",
    "    for i in range(2024, 0, -1):\n",
    "        d[i] = d[i+1] -d[i+2]+7\n",
    "    return d[15] - d[24]\n",
    "t2()"
   ]
  },
  {
   "cell_type": "markdown",
   "metadata": {},
   "source": [
    "# Задача 3\n",
    "\n",
    "Имеется калькулятор, который выполняет три операции:\n",
    "\n",
    "1. Прибавить к числу X единицу.\n",
    "2. Умножить число X на 2.\n",
    "3. Умножить число X на 3.\n",
    "\n",
    "Определите кратчайшую последовательность операций, необходимую для получения из числа 1 заданное число N.\n",
    "\n",
    "Входные данные\n",
    "Программа получает на вход одно число N, не превосходящее 106.\n",
    "\n",
    "Выходные данные\n",
    "Выведите строку, состоящую из цифр \"1\", \"2\" или \"3\", обозначающих одну из трех указанных операций, которая получает из числа 1 число N за минимальное число операций. Если возможных минимальных решений несколько, выведите любое из них.\n",
    "\n",
    "**Примеры**\n",
    "\n",
    "входные данные | выходные данные\n",
    "---|---\n",
    "1 | \n",
    "5 | 121\n",
    "562340 | 3333312222122213312"
   ]
  },
  {
   "cell_type": "code",
   "execution_count": null,
   "metadata": {},
   "outputs": [
    {
     "data": {
      "text/plain": [
       "'Your code here'"
      ]
     },
     "execution_count": 4,
     "metadata": {},
     "output_type": "execute_result"
    }
   ],
   "source": [
    "'''Your code here'''\n"
   ]
  },
  {
   "cell_type": "markdown",
   "metadata": {},
   "source": [
    "# Задача 4\n",
    "\n",
    "Робот стоит в левом нижнем углу прямоугольного поля, в каждой клетке которого записано целое положительное число. За один ход робот может переместиться на одну клетку вправо или на одну клетку вверх.\n",
    "\n",
    "Расход энергии на запуск робота равен числу, записанному в стартовой клетке. В дальнейшем расход энергии на шаг из одной клетки в другую равен абсолютной величине разности чисел, записанных в этих клетках.\n",
    "Определите минимальный и максимальный расход энергии при переходе робота в правую верхнюю клетку поля. В ответе запишите два числа: сначала минимальный расход энергии, затем – максимальный.\n",
    "Исходные данные записаны в файле 3.txt. "
   ]
  },
  {
   "cell_type": "code",
   "execution_count": 2,
   "metadata": {},
   "outputs": [],
   "source": [
    "'''Your code here'''\n",
    "f = [list(map(int, s.split())) for s in open('3.txt').readlines()]\n",
    "\n",
    "\n",
    "n = len(f)\n",
    "m = len(f[0])\n",
    "\n",
    "\n",
    "en = [[0] * m for _ in range(n)]\n",
    "en[-1][0] = f[-1][0]\n",
    "\n",
    "\n",
    "for i in range(1, m):\n",
    "    en[-1][i] = abs(f[-1][i] - f[-1][i-1])+ en[-1][i-1]\n",
    "\n",
    "\n",
    "for i in range(n-2, -1, -1):\n",
    "    en[i][0] = abs(f[i][0] - f[i+1][0])+ en[i+1][0]\n",
    "\n",
    "\n",
    "for i in range(n-2, -1, -1):\n",
    "    for j in range(1, m):\n",
    "        en[i][j] = max(abs(f[i][j] - f[i+1][j]) + en[i+1][j],\n",
    "                    abs(f[i][j] - f[i][j-1]) + en[i][j-1])"
   ]
  },
  {
   "cell_type": "markdown",
   "metadata": {},
   "source": [
    "# Задача 5\n",
    "\n",
    "Даны две последовательности, требуется найти длину их наибольшей общей подпоследовательности."
   ]
  },
  {
   "cell_type": "code",
   "execution_count": 3,
   "metadata": {},
   "outputs": [
    {
     "data": {
      "text/plain": [
       "[[0, 0, 0, 0, 0],\n",
       " [1, 1, 1, 1, 1],\n",
       " [1, 1, 2, 2, 2],\n",
       " [1, 1, 2, 2, 2],\n",
       " [1, 1, 2, 2, 3]]"
      ]
     },
     "execution_count": 3,
     "metadata": {},
     "output_type": "execute_result"
    }
   ],
   "source": [
    "'''Your code here'''\n",
    "def t5(a:str, b: str)->int:\n",
    "    n = len(a)\n",
    "    m = len(b)\n",
    "\n",
    "    lcs= [[0] * m for _ in range(n)]\n",
    "\n",
    "    for i in range(n):\n",
    "        for j in range(m):\n",
    "            if a[i] == b[j]:\n",
    "                lcs[i][j] = lcs[i-1][j-1] + 1\n",
    "            else:\n",
    "                lcs[i][j] = max(lcs[i][j-1], lcs[i-1][j])\n",
    "\n",
    "    return lcs\n",
    "\n",
    "t5('12345', '27325')"
   ]
  },
  {
   "cell_type": "markdown",
   "metadata": {},
   "source": [
    "# Задача 6. Расстояние по Левенштейну\n",
    "\n",
    "Дана текстовая строка. С ней можно выполнять следующие операции:\n",
    "\n",
    "1. Заменить один символ строки на другой символ.\n",
    "\n",
    "2. Удалить один произвольный символ.\n",
    "\n",
    "3. Вставить произвольный символ в произвольное место строки.\n",
    "\n",
    "Например, при помощи первой операции из строки \"СОК\" можно получить строку \"СУК\", при помощи второй операции - строку \"ОК\", при помощи третьей операции - строку \"СТОК.\n",
    "\n",
    "Минимальное количество таких операций, при помощи которых можно из одной строки получить другую, называется стоимостью редактирования или расстоянием Левенштейна.\n",
    "\n",
    "Определите расстояние Левенштейна для двух данных строк.\n",
    "\n",
    "**Пример**\n",
    "входные данные | выходные данные\n",
    "---|---\n",
    "ABCDEFGH ACDEXGIH | 3\n",
    " "
   ]
  },
  {
   "cell_type": "code",
   "execution_count": null,
   "metadata": {},
   "outputs": [],
   "source": []
  },
  {
   "cell_type": "markdown",
   "metadata": {},
   "source": [
    "# Задача 7\n",
    "\n",
    "Дана последовательность, требуется найти длину её наибольшей возрастающей подпоследовательности. Подпоследовательностью последовательности называется некоторый набор её элементов, не обязательно стоящих подряд.\n",
    "\n",
    "**Пример**\n",
    "входные данные | выходные данные\n",
    "---|---\n",
    "3 29 5 5 28 6 | 3"
   ]
  },
  {
   "cell_type": "code",
   "execution_count": 4,
   "metadata": {},
   "outputs": [
    {
     "data": {
      "text/plain": [
       "'Your code here'"
      ]
     },
     "execution_count": 4,
     "metadata": {},
     "output_type": "execute_result"
    }
   ],
   "source": [
    "'''Your code here'''"
   ]
  },
  {
   "cell_type": "markdown",
   "metadata": {},
   "source": [
    "# Задача 8\n",
    "\n",
    "Первая строка входа содержит целые числа $1≤W≤10$ и $1≤n≤300$ — вместимость рюкзака и число золотых слитков. Следующая строка содержит $n$ целых чисел $0≤w_1,…,w_n≤10^5$, задающих веса слитков. \n",
    "\n",
    "Найдите максимальный вес золота, который можно унести в рюкзаке.\n",
    "\n",
    "**Пример**\n",
    "входные данные | выходные данные\n",
    "---|---\n",
    "10 3\n",
    "1 4 8 | 9"
   ]
  },
  {
   "cell_type": "code",
   "execution_count": 5,
   "metadata": {},
   "outputs": [
    {
     "data": {
      "text/plain": [
       "[[0, 0, 0, 0, 0, 0, 0, 0, 0, 0, 0, 0, 0, 0],\n",
       " [0, 0, 0, 1, 1, 1, 1, 1, 1, 1, 1, 1, 1, 1],\n",
       " [0, 0, 0, 1, 6, 6, 6, 7, 7, 7, 7, 7, 7, 7],\n",
       " [0, 0, 0, 1, 6, 6, 6, 7, 7, 10, 10, 10, 11, 11],\n",
       " [0, 0, 0, 1, 6, 6, 6, 7, 7, 10, 10, 10, 13, 13],\n",
       " [0, 0, 0, 1, 6, 6, 6, 7, 7, 10, 10, 10, 13, 13]]"
      ]
     },
     "execution_count": 5,
     "metadata": {},
     "output_type": "execute_result"
    }
   ],
   "source": [
    "'''Your code here'''\n",
    "def t8(W, w, p):\n",
    "    n = len(w)\n",
    "    profit = [[0] * (W +1) for _ in range(n +1)]\n",
    "    for i in range(n):\n",
    "        for j in range(W+1):\n",
    "            profit[i+1][j] = profit[i][j]\n",
    "            if j >= w[i]:\n",
    "                profit[i+1][j] = max(profit[i][j],\n",
    "                                     profit[i][j-w[i]] + p[i]\n",
    "                                     )\n",
    "    return profit\n",
    "t8(13, [3, 4, 5, 8, 9], [1, 6, 4, 7, 6])"
   ]
  },
  {
   "cell_type": "code",
   "execution_count": null,
   "metadata": {},
   "outputs": [],
   "source": []
  }
 ],
 "metadata": {
  "kernelspec": {
   "display_name": "Python 3",
   "language": "python",
   "name": "python3"
  },
  "language_info": {
   "codemirror_mode": {
    "name": "ipython",
    "version": 3
   },
   "file_extension": ".py",
   "mimetype": "text/x-python",
   "name": "python",
   "nbconvert_exporter": "python",
   "pygments_lexer": "ipython3",
   "version": "3.11.0"
  },
  "orig_nbformat": 4
 },
 "nbformat": 4,
 "nbformat_minor": 2
}
